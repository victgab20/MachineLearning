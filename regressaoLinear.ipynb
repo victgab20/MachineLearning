{
  "cells": [
    {
      "cell_type": "markdown",
      "metadata": {
        "id": "view-in-github",
        "colab_type": "text"
      },
      "source": [
        "<a href=\"https://colab.research.google.com/github/victgab20/MachineLearning/blob/main/regressaoLinear.ipynb\" target=\"_parent\"><img src=\"https://colab.research.google.com/assets/colab-badge.svg\" alt=\"Open In Colab\"/></a>"
      ]
    },
    {
      "cell_type": "markdown",
      "id": "6dc2b628-9d1f-4e8d-83cc-3a0e0c816d3e",
      "metadata": {
        "id": "6dc2b628-9d1f-4e8d-83cc-3a0e0c816d3e"
      },
      "source": [
        "# 1) CRIANDO UM MODELO DE REGRESSÃO LINEAR SIMPLES\n",
        "\n",
        "A fórmula básica da regressão linear simples é:\n",
        "\n",
        "![Equação:](img/equacao.PNG)\n",
        "\n",
        "Onde:\n",
        "\n",
        "* y é a é a variável dependente (target previsto)\n",
        "* x é a variável independente (feature conhecida)\n",
        "* 𝛽0 é o coeficiente liner (interceptação no eixo y)\n",
        "* 𝛽1 é o coeficiente de inclinação\n",
        "\n",
        "Os coeficientes 𝛽0 e 𝛽1 podem ser calculados com fórmulas derivadas do método dos mínimos quadrados:\n",
        "\n",
        "![Equação2:](img/equacao-betas.PNG)\n",
        "\n",
        "* X𝑖 e Y𝑖 são os valores observados das variáveis independente e dependente, respectivamente.\n",
        "* x̅ é a média dos valores de\n",
        "* $\\bar{y}$ é a média dos valores de\n",
        "* n é o número de observações."
      ]
    },
    {
      "cell_type": "markdown",
      "id": "15007e84-ff92-41fd-aac7-fe63c5e842b0",
      "metadata": {
        "id": "15007e84-ff92-41fd-aac7-fe63c5e842b0"
      },
      "source": [
        "#### CARREGANDO OS DADOS"
      ]
    },
    {
      "cell_type": "code",
      "execution_count": null,
      "id": "32087377-a4be-45a1-9379-13a20f0bcd65",
      "metadata": {
        "id": "32087377-a4be-45a1-9379-13a20f0bcd65"
      },
      "outputs": [],
      "source": [
        "from sklearn.datasets import fetch_california_housing\n",
        "housing = fetch_california_housing()\n",
        "\n",
        "import pandas as pd\n",
        "dataset = pd.DataFrame(housing.data)\n",
        "dataset.columns = housing.feature_names\n",
        "dataset['Price'] = housing.target\n",
        "dataset.head()"
      ]
    },
    {
      "cell_type": "code",
      "execution_count": null,
      "id": "e8d73da7-5c6f-49ff-98d0-ffd4631c8561",
      "metadata": {
        "id": "e8d73da7-5c6f-49ff-98d0-ffd4631c8561"
      },
      "outputs": [],
      "source": [
        "import seaborn as sns\n",
        "from matplotlib import pyplot as plt\n",
        "\n",
        "correlation_matrix = dataset.corr()\n",
        "plt.rc('font', size=12)\n",
        "plt.figure(figsize=(8, 7))\n",
        "sns.heatmap(correlation_matrix, cmap=sns.color_palette(\"coolwarm\"), linewidths=.5, annot=True, fmt='.2f');\n",
        "plt.title('Matriz de Correlação \\n')\n",
        "plt.show()"
      ]
    },
    {
      "cell_type": "code",
      "execution_count": null,
      "id": "999a0674-8ef6-4e7a-bc0b-4bfdca2f8f93",
      "metadata": {
        "id": "999a0674-8ef6-4e7a-bc0b-4bfdca2f8f93"
      },
      "outputs": [],
      "source": [
        "X = dataset['MedInc'].to_frame()\n",
        "y = dataset['Price']\n",
        "\n",
        "from sklearn.model_selection import train_test_split\n",
        "X_train, X_test, y_train, y_test = train_test_split(X, y, test_size=0.3, random_state=42)"
      ]
    },
    {
      "cell_type": "markdown",
      "id": "c24cdc18-1e81-4d30-9bd1-e789e008a052",
      "metadata": {
        "id": "c24cdc18-1e81-4d30-9bd1-e789e008a052"
      },
      "source": [
        "##### TESTANDO COM O SKLEARN"
      ]
    },
    {
      "cell_type": "code",
      "execution_count": null,
      "id": "fec77ea6-f987-462f-ac76-bf5570c87e52",
      "metadata": {
        "id": "fec77ea6-f987-462f-ac76-bf5570c87e52"
      },
      "outputs": [],
      "source": [
        "from sklearn.linear_model import LinearRegression\n",
        "from sklearn.metrics import mean_squared_error\n",
        "eixo_x = dataset['MedInc'].to_frame()\n",
        "eixo_y = dataset['Price']\n",
        "model = LinearRegression()\n",
        "model.fit(eixo_x, eixo_y)\n",
        "y_pred = model.predict(X_test)\n",
        "\n",
        "print('a = ' + str(model.coef_))\n",
        "print('b = ' + str(model.intercept_))\n",
        "\n",
        "mse = mean_squared_error(y_test, y_pred)\n",
        "print(\"Mean Squared Error (MSE):\", mse)\n",
        "\n",
        "plt.figure()\n",
        "plt.xlabel('Valores Reais')\n",
        "plt.ylabel('Valores Preditos')\n",
        "plt.title('Valores Reais vs Valores Preditos')\n",
        "plt.scatter(y_test, y_pred, label='Valores Preditos')\n",
        "plt.plot([y_test.min(), y_test.max()], [y_test.min(), y_test.max()], color='red', linestyle='-', linewidth=3, label='Linha de Regressão')\n",
        "plt.legend()\n",
        "plt.grid()\n",
        "plt.show()"
      ]
    },
    {
      "cell_type": "markdown",
      "id": "d673fc70-92de-4d75-afd8-1068478ab320",
      "metadata": {
        "id": "d673fc70-92de-4d75-afd8-1068478ab320"
      },
      "source": [
        "#### Implementação de um calculo de Regressão Linear:"
      ]
    },
    {
      "cell_type": "code",
      "execution_count": null,
      "id": "94938b22-b2d9-4733-b355-2f25831c92db",
      "metadata": {
        "id": "94938b22-b2d9-4733-b355-2f25831c92db"
      },
      "outputs": [],
      "source": [
        "import numpy as np\n",
        "x = dataset['MedInc']\n",
        "y = dataset['Price']\n",
        "x_media = np.mean(x)\n",
        "y_media = np.mean(y)\n",
        "numerador = 0;\n",
        "denominador = 0;\n",
        "n = len(x)\n",
        "for i in range(n):\n",
        "  sla = (x[i] - x_media) * (y[i] - y_media)\n",
        "  sla1 = (x[i] - x_media)**2\n",
        "  numerador = numerador+sla\n",
        "  denominador = denominador+sla1\n",
        "b1 = numerador / denominador\n",
        "b0 = y_media - (b1 * x_media)\n",
        "y_predicao = b0 + (b1 * x)"
      ]
    },
    {
      "cell_type": "code",
      "execution_count": null,
      "id": "5778408c-dfc8-4d6c-a433-b2810bdf6844",
      "metadata": {
        "id": "5778408c-dfc8-4d6c-a433-b2810bdf6844"
      },
      "outputs": [],
      "source": [
        "plt.scatter(x, y, label='Dados')\n",
        "plt.plot(eixo_x, y_predicao, color='red', label='Reta de Regressão')\n",
        "plt.xlabel('Valores Reais')\n",
        "plt.ylabel('Valores Preditos')\n",
        "plt.legend()\n",
        "plt.title('Gráfico de Regressão')\n",
        "plt.show()"
      ]
    },
    {
      "cell_type": "code",
      "execution_count": null,
      "id": "3d958a2a-855e-4747-9b5a-be4ea3be4b0d",
      "metadata": {
        "id": "3d958a2a-855e-4747-9b5a-be4ea3be4b0d"
      },
      "outputs": [],
      "source": [
        "# Coeficientes da regressão\n",
        "print(f'Coeficiente beta_1: {b1}')\n",
        "print(f'Coeficiente beta_0: {b0}')\n",
        "\n",
        "from sklearn.metrics import mean_absolute_error, mean_squared_error, r2_score\n",
        "\n",
        "mae = mean_absolute_error(y, y_predicao)\n",
        "mse = mean_squared_error(y, y_predicao)\n",
        "rmse = np.sqrt(mse)\n",
        "r2 = r2_score(y, y_predicao)\n",
        "\n",
        "print(f'Erro Médio Absoluto (MAE): {mae}')\n",
        "print(f'Erro Quadrático Médio (MSE): {mse}')\n",
        "print(f'Raiz do Erro Quadrático Médio (RMSE): {rmse}')\n",
        "print(f'Coeficiente de Determinação (R²): {r2}')"
      ]
    },
    {
      "cell_type": "markdown",
      "id": "7748c3c7-2c99-4956-8e24-b72b20acff0b",
      "metadata": {
        "id": "7748c3c7-2c99-4956-8e24-b72b20acff0b"
      },
      "source": [
        "# 2) REALIZANDO A PREDIÇÃO DE PREÇOS DE ALUGUEIS"
      ]
    },
    {
      "cell_type": "code",
      "source": [
        "from google.colab import drive\n",
        "drive.mount('/content/drive')"
      ],
      "metadata": {
        "id": "UgQvzR6bR-Fk"
      },
      "id": "UgQvzR6bR-Fk",
      "execution_count": null,
      "outputs": []
    },
    {
      "cell_type": "code",
      "execution_count": null,
      "id": "f5e24c47-eaef-4d58-8aee-aaac72610a5b",
      "metadata": {
        "id": "f5e24c47-eaef-4d58-8aee-aaac72610a5b"
      },
      "outputs": [],
      "source": [
        "import pandas as pd\n",
        "import numpy as np\n",
        "\n",
        "# Leitura dos dados\n",
        "X_train = pd.read_csv(\"/content/drive/MyDrive/Colab Notebooks/2 - Aprendizado de maquina (1)/X_train.csv\")\n",
        "y_train = pd.read_csv(\"/content/drive/MyDrive/Colab Notebooks/2 - Aprendizado de maquina (1)/y_train.csv\")\n",
        "X_test = pd.read_csv(\"/content/drive/MyDrive/Colab Notebooks/2 - Aprendizado de maquina (1)/X_test.csv\")"
      ]
    },
    {
      "cell_type": "code",
      "execution_count": null,
      "id": "1bad10ed-37e4-4d2d-9bc6-f24a183148cc",
      "metadata": {
        "id": "1bad10ed-37e4-4d2d-9bc6-f24a183148cc"
      },
      "outputs": [],
      "source": [
        "X_train"
      ]
    },
    {
      "cell_type": "code",
      "execution_count": null,
      "id": "f62626a3-7528-4c0d-98a1-8f9062bc6d4d",
      "metadata": {
        "id": "f62626a3-7528-4c0d-98a1-8f9062bc6d4d"
      },
      "outputs": [],
      "source": [
        "y_train"
      ]
    },
    {
      "cell_type": "markdown",
      "id": "dfd440c2-d73c-42b6-a4b3-68bbccee29e4",
      "metadata": {
        "id": "dfd440c2-d73c-42b6-a4b3-68bbccee29e4"
      },
      "source": [
        "#### Tratamento de dados para o modelo:"
      ]
    },
    {
      "cell_type": "code",
      "execution_count": null,
      "id": "c964f464-db5c-4e3e-8f0f-f53f4544a71d",
      "metadata": {
        "id": "c964f464-db5c-4e3e-8f0f-f53f4544a71d"
      },
      "outputs": [],
      "source": [
        "def tratar_dados_x(dt):\n",
        "  dt_processado = dt.copy()\n",
        "  dt_processado['animal'] = dt_processado['animal'].map({'not acept': 0, 'acept': 1})\n",
        "  dt_processado['mobilia'] = dt_processado['mobilia'].map({'not furnished': 0, 'furnished': 1})\n",
        "  mascara = dt_processado['andar'] != '-'\n",
        "  dt_filtrado = dt_processado[mascara]\n",
        "  dt_filtrado\n",
        "  return dt_filtrado, mascara\n",
        "x_train_processado, mascara = tratar_dados_x(X_train)\n",
        "x_test_processado, mask1 = tratar_dados_x(X_test)"
      ]
    },
    {
      "cell_type": "code",
      "source": [
        "x_train_processado"
      ],
      "metadata": {
        "id": "_O1_B6HvzKPA"
      },
      "id": "_O1_B6HvzKPA",
      "execution_count": null,
      "outputs": []
    },
    {
      "cell_type": "code",
      "source": [
        "def tratar_y(dt, mascara):\n",
        "  dt_processado = dt.copy()\n",
        "  dt_filtrado = dt_processado[mascara]\n",
        "  return dt_filtrado\n",
        "y_train_filtrado = tratar_y(y_train, mascara)"
      ],
      "metadata": {
        "id": "ph5FuJqWPSfs"
      },
      "id": "ph5FuJqWPSfs",
      "execution_count": null,
      "outputs": []
    },
    {
      "cell_type": "code",
      "source": [
        "y_train_filtrado"
      ],
      "metadata": {
        "id": "7Irtkj6T4UhD"
      },
      "id": "7Irtkj6T4UhD",
      "execution_count": null,
      "outputs": []
    },
    {
      "cell_type": "code",
      "source": [
        "X_train_index = x_train_processado.index\n",
        "Y_train = y_train_filtrado.loc[X_train_index].reset_index(drop=True)\n",
        "y_train = Y_train['aluguel']\n",
        "\n",
        "x_train_processado\n",
        "x_test_processado\n"
      ],
      "metadata": {
        "id": "xRR0O4-g_o0W"
      },
      "id": "xRR0O4-g_o0W",
      "execution_count": null,
      "outputs": []
    },
    {
      "cell_type": "code",
      "source": [
        "from sklearn.preprocessing import StandardScaler, OneHotEncoder\n",
        "from sklearn.compose import ColumnTransformer\n",
        "from sklearn.pipeline import Pipeline\n",
        "from sklearn.impute import SimpleImputer\n",
        "from sklearn.ensemble import RandomForestRegressor\n",
        "from sklearn.model_selection import GridSearchCV\n",
        "\n",
        "numeric_features = ['area', 'quartos', 'banheiro', 'garagens', 'condominio_reais', 'iptu', 'seguro_incendio', 'andar', 'animal', 'mobilia']\n",
        "categorical_features = ['cidade']\n",
        "\n",
        "preprocessor = ColumnTransformer(\n",
        "    transformers=[\n",
        "        ('num', SimpleImputer(), numeric_features),\n",
        "        ('cat', OneHotEncoder(handle_unknown='infrequent_if_exist'), categorical_features)\n",
        "    ]\n",
        ")\n",
        "\n",
        "\n",
        "# Criar o pipeline\n",
        "pipeline = Pipeline(steps=[\n",
        "    ('preprocessor', preprocessor),\n",
        "    ('model', RandomForestRegressor())\n",
        "])"
      ],
      "metadata": {
        "id": "hDC2epPfbW0L"
      },
      "id": "hDC2epPfbW0L",
      "execution_count": null,
      "outputs": []
    },
    {
      "cell_type": "code",
      "source": [
        "#Definindo o grid_search\n",
        "param_grid = {\n",
        "    'model__n_estimators': [100, 200],\n",
        "    'model__max_depth': [None, 10, 20, 30],\n",
        "    'model__min_samples_split': [2, 5, 10],\n",
        "    'model__min_samples_leaf': [1, 2, 4]\n",
        "}\n",
        "\n",
        "grid_search = GridSearchCV(estimator=pipeline, param_grid=param_grid, cv=5, scoring='neg_mean_squared_error', n_jobs=-1)"
      ],
      "metadata": {
        "id": "DjKahYVOA1kQ"
      },
      "id": "DjKahYVOA1kQ",
      "execution_count": null,
      "outputs": []
    },
    {
      "cell_type": "code",
      "source": [
        "grid_search.fit(x_train_processado, y_train)"
      ],
      "metadata": {
        "id": "q66ABkWlSmqa"
      },
      "id": "q66ABkWlSmqa",
      "execution_count": null,
      "outputs": []
    },
    {
      "cell_type": "code",
      "source": [
        "best_model = Pipeline(steps=[\n",
        "    ('preprocessor', preprocessor),\n",
        "    ('model', RandomForestRegressor(\n",
        "        max_depth=grid_search.best_params_['model__max_depth'],\n",
        "        min_samples_split=grid_search.best_params_['model__min_samples_split'],\n",
        "        n_estimators=grid_search.best_params_['model__n_estimators']\n",
        "    ))\n",
        "])\n",
        "\n",
        "best_model.fit(x_train_processado, y_train)"
      ],
      "metadata": {
        "id": "NPVzxl-vBQO_"
      },
      "id": "NPVzxl-vBQO_",
      "execution_count": null,
      "outputs": []
    },
    {
      "cell_type": "code",
      "source": [
        "\n",
        "X_test_processed = best_model.named_steps['preprocessor'].transform(x_test_processado)\n",
        "\n",
        "y_pred = best_model.named_steps['model'].predict(X_test_processed)\n",
        "\n",
        "y_pred_df = pd.DataFrame(y_pred, index=x_test_processado.index, columns=['aluguel'])\n",
        "y_pred_df.to_csv(\"y_pred.csv\")\n",
        "\n"
      ],
      "metadata": {
        "id": "uSmuXbMPBXYz"
      },
      "id": "uSmuXbMPBXYz",
      "execution_count": null,
      "outputs": []
    },
    {
      "cell_type": "code",
      "source": [
        "# Baixando os resultados:\n",
        "from google.colab import files\n",
        "\n",
        "files.download(\"y_pred.csv\")"
      ],
      "metadata": {
        "id": "Veb0H89Md88_"
      },
      "id": "Veb0H89Md88_",
      "execution_count": null,
      "outputs": []
    }
  ],
  "metadata": {
    "kernelspec": {
      "display_name": "Python 3 (ipykernel)",
      "language": "python",
      "name": "python3"
    },
    "language_info": {
      "codemirror_mode": {
        "name": "ipython",
        "version": 3
      },
      "file_extension": ".py",
      "mimetype": "text/x-python",
      "name": "python",
      "nbconvert_exporter": "python",
      "pygments_lexer": "ipython3",
      "version": "3.7.1"
    },
    "colab": {
      "provenance": [],
      "include_colab_link": true
    }
  },
  "nbformat": 4,
  "nbformat_minor": 5
}